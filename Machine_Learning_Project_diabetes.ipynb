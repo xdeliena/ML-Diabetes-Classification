{
  "nbformat": 4,
  "nbformat_minor": 0,
  "metadata": {
    "colab": {
      "provenance": []
    },
    "kernelspec": {
      "name": "python3",
      "display_name": "Python 3"
    },
    "language_info": {
      "name": "python"
    }
  },
  "cells": [
    {
      "cell_type": "code",
      "source": [
        "import pandas as pd\n",
        "import numpy as np\n",
        "import matplotlib.pyplot as plt\n",
        "import tensorflow as tf\n",
        "import tensorflow_hub as hub\n",
        "import seaborn as sns\n",
        "import time\n",
        "from sklearn.model_selection import train_test_split\n",
        "from sklearn.preprocessing import StandardScaler, LabelEncoder\n",
        "from imblearn.over_sampling import RandomOverSampler\n",
        "from sklearn.ensemble import RandomForestClassifier\n",
        "from sklearn.metrics import classification_report, confusion_matrix, accuracy_score\n",
        "from sklearn.linear_model import LogisticRegression\n",
        "\n",
        "#https://www.kaggle.com/datasets/mathchi/diabetes-data-set\n",
        "df = pd.read_csv('/content/clean-diabetes.csv')"
      ],
      "metadata": {
        "collapsed": true,
        "id": "6tOqk4vem-gx"
      },
      "execution_count": null,
      "outputs": []
    },
    {
      "cell_type": "code",
      "source": [
        "#For measuring runtime\n",
        "start = time.time()\n",
        "print(23*2.3)"
      ],
      "metadata": {
        "id": "YKz2s8XGUZhS"
      },
      "execution_count": null,
      "outputs": []
    },
    {
      "cell_type": "code",
      "source": [
        "df.head()"
      ],
      "metadata": {
        "id": "ngU3bfMrniRA"
      },
      "execution_count": null,
      "outputs": []
    },
    {
      "cell_type": "code",
      "source": [
        "def plot_confusion_matrix(cm, title):\n",
        "    plt.figure(figsize=(8, 6))\n",
        "    sns.heatmap(cm, annot=True, fmt='d', cmap='Blues', cbar=False)\n",
        "    plt.title(title)\n",
        "    plt.xlabel('Predicted')\n",
        "    plt.ylabel('Actual')\n",
        "    plt.show()"
      ],
      "metadata": {
        "id": "-PP8WqN_29vF"
      },
      "execution_count": null,
      "outputs": []
    },
    {
      "cell_type": "code",
      "source": [
        "#Feature selection\n",
        "X = df[df.columns[:-1]].values\n",
        "y = df[df.columns[-1]].values"
      ],
      "metadata": {
        "id": "xFATrF22hM9y"
      },
      "execution_count": null,
      "outputs": []
    },
    {
      "cell_type": "code",
      "source": [
        "#Split dataset into training and testing sets\n",
        "X_train, X_temp, y_train, y_temp = train_test_split(X, y, test_size=0.4, random_state=0)\n",
        "X_valid, X_test, y_valid, y_test = train_test_split(X_temp, y_temp, test_size=0.5, random_state=0)"
      ],
      "metadata": {
        "id": "qASocZdVIkKd"
      },
      "execution_count": null,
      "outputs": []
    },
    {
      "cell_type": "code",
      "source": [
        "#Beforenormalization\n",
        "#Confusion Matrix\n",
        "classifier = RandomForestClassifier(n_estimators=100, random_state=42)\n",
        "classifier.fit(X_train, y_train)\n",
        "\n",
        "#Prediction\n",
        "y_pred = classifier.predict(X_test)\n",
        "cm = confusion_matrix(y_test, y_pred)\n",
        "\n",
        "#Evaluate\n",
        "print(\"Confusion Matrix:\")\n",
        "print(confusion_matrix(y_test, y_pred))\n",
        "\n",
        "print(\"\\nClassification Report:\")\n",
        "print(classification_report(y_test, y_pred))\n",
        "\n",
        "print(\"\\nAccuracy Score:\")\n",
        "print(accuracy_score(y_test, y_pred))"
      ],
      "metadata": {
        "id": "tdA2pU-0IsTG"
      },
      "execution_count": null,
      "outputs": []
    },
    {
      "cell_type": "code",
      "source": [
        "#Before normalization\n",
        "#Confusion Matrix Plot\n",
        "plot_confusion_matrix(cm, 'Confusion Matrix Before Normalization')"
      ],
      "metadata": {
        "id": "rfmvCUtcJIm8"
      },
      "execution_count": null,
      "outputs": []
    },
    {
      "cell_type": "code",
      "source": [
        "# Check for missing values\n",
        "missing_values = df.isnull().sum()\n",
        "\n",
        "# Check for duplicates\n",
        "duplicates = df.duplicated().sum()\n",
        "\n",
        "missing_values, duplicates"
      ],
      "metadata": {
        "id": "CgWBjz09-xuI"
      },
      "execution_count": null,
      "outputs": []
    },
    {
      "cell_type": "code",
      "source": [
        "#Feature scaling\n",
        "scaler = StandardScaler()\n",
        "X = scaler.fit_transform(X)\n",
        "data = np.hstack((X, np.reshape(y,(-1,1))))\n",
        "transformed_df = pd.DataFrame(data, columns = df.columns)\n",
        "\n",
        "#Balances dataset\n",
        "over = RandomOverSampler()\n",
        "X,y = over.fit_resample(X,y)"
      ],
      "metadata": {
        "id": "nGBk1vhC6kEG"
      },
      "execution_count": null,
      "outputs": []
    },
    {
      "cell_type": "code",
      "source": [
        "#Split dataset into training and testing sets\n",
        "X_train, X_temp, y_train, y_temp = train_test_split(X, y, test_size=0.4, random_state=0)\n",
        "X_valid, X_test, y_valid, y_test = train_test_split(X_temp, y_temp, test_size=0.5, random_state=0)"
      ],
      "metadata": {
        "id": "9THwRrrW7aTE"
      },
      "execution_count": null,
      "outputs": []
    },
    {
      "cell_type": "code",
      "source": [
        "#Data visualization\n",
        "for i in range(len(df.columns[:-1])):\n",
        "  label = df.columns[i]\n",
        "  plt.hist(transformed_df[transformed_df['Outcome']==1][label], color='red',label=\"Diabetes\",alpha=0.7,density=True,bins=15)\n",
        "  plt.hist(transformed_df[transformed_df['Outcome']==0][label], color='blue',label=\"No Diabetes\",alpha=0.7,density=True,bins=15)\n",
        "  plt.title(label)\n",
        "  plt.ylabel(\"Probability\")\n",
        "  plt.xlabel(label)\n",
        "  plt.legend()\n",
        "  plt.show()"
      ],
      "metadata": {
        "id": "sQz3jjBCoVgZ",
        "collapsed": true
      },
      "execution_count": null,
      "outputs": []
    },
    {
      "cell_type": "code",
      "source": [
        "#Create model\n",
        "model = tf.keras.models.Sequential([\n",
        "              tf.keras.layers.Dense(16, activation='relu'),\n",
        "              tf.keras.layers.Dense(16, activation='relu'),\n",
        "              tf.keras.layers.Dense(1, activation='sigmoid'),\n",
        "])"
      ],
      "metadata": {
        "id": "IYyEwWzU8ZuF"
      },
      "execution_count": null,
      "outputs": []
    },
    {
      "cell_type": "code",
      "source": [
        "#For data visualization\n",
        "def plot_history(history):\n",
        "    # Plot training & validation accuracy values\n",
        "    plt.figure(figsize=(12, 4))\n",
        "\n",
        "    plt.subplot(1, 2, 1)\n",
        "    plt.plot(history.history['accuracy'])\n",
        "    plt.plot(history.history['val_accuracy'])\n",
        "    plt.title('Model Accuracy')\n",
        "    plt.xlabel('Epoch')\n",
        "    plt.ylabel('Accuracy')\n",
        "    plt.legend(['Train', 'Validation'], loc='upper left')\n",
        "\n",
        "    # Plot training & validation loss values\n",
        "    plt.subplot(1, 2, 2)\n",
        "    plt.plot(history.history['loss'])\n",
        "    plt.plot(history.history['val_loss'])\n",
        "    plt.title('Model Loss')\n",
        "    plt.xlabel('Epoch')\n",
        "    plt.ylabel('Loss')\n",
        "    plt.legend(['Train', 'Validation'], loc='upper left')\n",
        "\n",
        "    plt.tight_layout()\n",
        "    plt.show()"
      ],
      "metadata": {
        "id": "vcQXHHo6YEVH"
      },
      "execution_count": null,
      "outputs": []
    },
    {
      "cell_type": "code",
      "source": [
        "#model.evaluate(X_valid,y_valid)\n",
        "#model.evaluate(X_train,y_train)\n",
        "#model.evaluate(X_test,y_test)"
      ],
      "metadata": {
        "id": "aquIMw8EIkog"
      },
      "execution_count": null,
      "outputs": []
    },
    {
      "cell_type": "code",
      "source": [
        "adam_time1 = time.time()"
      ],
      "metadata": {
        "id": "lNe7Y_w4Xu4U"
      },
      "execution_count": null,
      "outputs": []
    },
    {
      "cell_type": "code",
      "source": [
        "#Adam optimizer\n",
        "model.compile(optimizer = tf.keras.optimizers.Adam(learning_rate=0.001),\n",
        "              loss = tf.keras.losses.BinaryCrossentropy(),\n",
        "              metrics = ['accuracy'])\n",
        "\n",
        "m = model.fit(X_train,y_train,batch_size=16,epochs=50,validation_data = (X_valid,y_valid))\n",
        "plot_history(m)"
      ],
      "metadata": {
        "id": "EuhdNF4F9RLv"
      },
      "execution_count": null,
      "outputs": []
    },
    {
      "cell_type": "code",
      "source": [
        "adam_time2 = time.time()"
      ],
      "metadata": {
        "id": "vGPI2ErAX17I"
      },
      "execution_count": null,
      "outputs": []
    },
    {
      "cell_type": "code",
      "source": [
        "adamax_time1 = time.time()"
      ],
      "metadata": {
        "id": "YFgIcWSQX5eT"
      },
      "execution_count": null,
      "outputs": []
    },
    {
      "cell_type": "code",
      "source": [
        "#Adamax optimizer\n",
        "model.compile(optimizer = tf.keras.optimizers.Adamax(learning_rate=0.001),\n",
        "              loss = tf.keras.losses.BinaryCrossentropy(),\n",
        "              metrics = ['accuracy'])\n",
        "\n",
        "m = model.fit(X_train,y_train,batch_size=16,epochs=50,validation_data = (X_valid,y_valid))\n",
        "plot_history(m)"
      ],
      "metadata": {
        "id": "ps_795XkbM2c"
      },
      "execution_count": null,
      "outputs": []
    },
    {
      "cell_type": "code",
      "source": [
        "adamax_time2 = time.time()"
      ],
      "metadata": {
        "id": "f-yr6V1-X8TI"
      },
      "execution_count": null,
      "outputs": []
    },
    {
      "cell_type": "code",
      "source": [
        "sgd_time1 = time.time()"
      ],
      "metadata": {
        "id": "boYlen08X-4J"
      },
      "execution_count": null,
      "outputs": []
    },
    {
      "cell_type": "code",
      "source": [
        "#Sgd optimizer\n",
        "model.compile(optimizer=tf.keras.optimizers.SGD(learning_rate=0.001),\n",
        "              loss='binary_crossentropy',\n",
        "              metrics=['accuracy'])\n",
        "\n",
        "m = model.fit(X_train,y_train,batch_size=16,epochs=50,validation_data = (X_valid,y_valid))\n",
        "plot_history(m)"
      ],
      "metadata": {
        "id": "QvsQxS8INYbD"
      },
      "execution_count": null,
      "outputs": []
    },
    {
      "cell_type": "code",
      "source": [
        "sgd_time2 = time.time()"
      ],
      "metadata": {
        "id": "3W1SxcuBYC45"
      },
      "execution_count": null,
      "outputs": []
    },
    {
      "cell_type": "code",
      "source": [
        "ftrl_time1 = time.time()"
      ],
      "metadata": {
        "id": "wOnQIQMwYE9F"
      },
      "execution_count": null,
      "outputs": []
    },
    {
      "cell_type": "code",
      "source": [
        "#Ftrl optimizer\n",
        "model.compile(optimizer = tf.keras.optimizers.Ftrl(learning_rate=0.001),\n",
        "              loss = tf.keras.losses.BinaryCrossentropy(),\n",
        "              metrics = ['accuracy'])\n",
        "\n",
        "m = model.fit(X_train,y_train,batch_size=16,epochs=50,validation_data = (X_valid,y_valid))\n",
        "plot_history(m)"
      ],
      "metadata": {
        "id": "RGGJiaWLOp-T"
      },
      "execution_count": null,
      "outputs": []
    },
    {
      "cell_type": "code",
      "source": [
        "ftrl_time2 = time.time()"
      ],
      "metadata": {
        "id": "ReniGJtJYIMh"
      },
      "execution_count": null,
      "outputs": []
    },
    {
      "cell_type": "code",
      "source": [
        "nadam_time1 = time.time()"
      ],
      "metadata": {
        "id": "VyXR7dC2YJOz"
      },
      "execution_count": null,
      "outputs": []
    },
    {
      "cell_type": "code",
      "source": [
        "#Nadam optimizer\n",
        "model.compile(optimizer = tf.keras.optimizers.Nadam(learning_rate=0.001),\n",
        "              loss = tf.keras.losses.BinaryCrossentropy(),\n",
        "              metrics = ['accuracy'])\n",
        "\n",
        "m = model.fit(X_train,y_train,batch_size=16,epochs=50,validation_data = (X_valid,y_valid))\n",
        "plot_history(m)"
      ],
      "metadata": {
        "id": "3suB7UO5O46T"
      },
      "execution_count": null,
      "outputs": []
    },
    {
      "cell_type": "code",
      "source": [
        "nadam_time2 = time.time()"
      ],
      "metadata": {
        "id": "EomxXQkCYNPt"
      },
      "execution_count": null,
      "outputs": []
    },
    {
      "cell_type": "code",
      "source": [
        "#After normalization\n",
        "#Confusion Matrix\n",
        "classifier = RandomForestClassifier(n_estimators=100, random_state=42)\n",
        "classifier.fit(X_train, y_train)\n",
        "\n",
        "#Prediction\n",
        "y_pred = classifier.predict(X_test)\n",
        "cm = confusion_matrix(y_test, y_pred)\n",
        "\n",
        "#Evaluate\n",
        "print(\"Confusion Matrix:\")\n",
        "print(confusion_matrix(y_test, y_pred))\n",
        "\n",
        "print(\"\\nClassification Report:\")\n",
        "print(classification_report(y_test, y_pred))\n",
        "\n",
        "print(\"\\nAccuracy Score:\")\n",
        "print(accuracy_score(y_test, y_pred))"
      ],
      "metadata": {
        "id": "_wW0kg2bPC55"
      },
      "execution_count": null,
      "outputs": []
    },
    {
      "cell_type": "code",
      "source": [
        "#After normalization\n",
        "#Confusion Matrix Plot\n",
        "plot_confusion_matrix(cm, 'Confusion Matrix After Normalization')"
      ],
      "metadata": {
        "id": "Nh-7dkIGPd_M"
      },
      "execution_count": null,
      "outputs": []
    },
    {
      "cell_type": "code",
      "source": [
        "#Runtime measuring\n",
        "end = time.time()\n",
        "print(end - start)"
      ],
      "metadata": {
        "id": "Jka0GfQgUofc"
      },
      "execution_count": null,
      "outputs": []
    },
    {
      "cell_type": "code",
      "source": [
        "print(\"Adam runtime:\",adam_time2-adam_time1)\n",
        "print(\"Adamax runtime:\",adamax_time2-adamax_time1)\n",
        "print(\"Sgd runtime:\",sgd_time2-sgd_time1)\n",
        "print(\"Ftrl runtime:\",ftrl_time2-ftrl_time1)\n",
        "print(\"Nadam runtime:\",nadam_time2-nadam_time1)"
      ],
      "metadata": {
        "id": "uRqWKI0TWW7c"
      },
      "execution_count": null,
      "outputs": []
    }
  ]
}